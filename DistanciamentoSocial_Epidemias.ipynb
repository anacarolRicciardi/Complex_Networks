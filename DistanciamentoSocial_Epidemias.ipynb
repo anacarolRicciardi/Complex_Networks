{
  "nbformat": 4,
  "nbformat_minor": 0,
  "metadata": {
    "colab": {
      "private_outputs": true,
      "provenance": []
    },
    "kernelspec": {
      "name": "python3",
      "display_name": "Python 3"
    },
    "language_info": {
      "name": "python"
    }
  },
  "cells": [
    {
      "cell_type": "markdown",
      "source": [
        "**Ana Carolina Prado Ricciardi**\n",
        "\n",
        "Prof. Francisco Aparecido Rodrigues, PhD\n",
        "\n",
        "SME5924 - Processos Dinâmicos em Redes Complexas (2025)\n",
        "\n"
      ],
      "metadata": {
        "id": "rSCVRedN4NJo"
      }
    },
    {
      "cell_type": "markdown",
      "source": [
        "**Referência** :\n",
        "Pastor-Satorras, R., Castellano, C., Van Mieghem, P., & Vespignani, A. (2015).\n",
        "Epidemic processes in complex networks. Reviews of Modern Physics, 87(3), 925–979.\n",
        "https://doi.org/10.1103/RevModPhys.87.925\n",
        "\n"
      ],
      "metadata": {
        "id": "guApE6_X45mt"
      }
    },
    {
      "cell_type": "markdown",
      "source": [
        "## Introdução\n",
        "\n",
        "Neste estudo, buscamos compreender **como o distanciamento social afeta a propagação de epidemias**, por meio da simulação computacional de **modelos epidemiológicos em redes complexas**. A abordagem baseia-se na hipótese de que **a estrutura das interações sociais influencia diretamente o alcance e a velocidade de disseminação de uma doença infecciosa**. Para isso, utilizamos a biblioteca [EoN – Epidemics on Networks](https://epidemicsonnetworks.readthedocs.io/en/latest/), que permite a simulação precisa de modelos como **SIR** (Susceptível-Infectado-Recuperado) e **SIS** (Susceptível-Infectado-Suscetível) sobre grafos.\n",
        "\n",
        "O foco principal está na análise dos efeitos da **remoção de conexões na rede** – uma analogia ao **distanciamento social implementado como política de saúde pública**. Através dessa remoção de arestas, buscamos investigar como diferentes estratégias de intervenção impactam o curso da epidemia, especialmente no que diz respeito à **fração de indivíduos recuperados** ao final da propagação.\n",
        "\n",
        "### Objetivos\n",
        "\n",
        "- Implementar modelos de propagação de epidemias (SIR e SIS) sobre diferentes redes complexas;\n",
        "- Simular o efeito da **remoção aleatória de conexões**, representando distanciamento social não direcionado;\n",
        "- Avaliar estratégias **direcionadas** de distanciamento, com remoção de links baseada em **centralidade de arestas**:\n",
        "  - **Betweenness centrality** (intermediação)\n",
        "  - **Grau médio dos vértices conectados**\n",
        "- Comparar o comportamento da epidemia em três topologias clássicas de rede:\n",
        "  - **Erdős–Rényi (ER)** – rede aleatória\n",
        "  - **Barabási–Albert (BA)** – rede com hubs\n",
        "  - **Watts–Strogatz (WS)** – rede de mundo pequeno\n",
        "- Analisar uma **rede empírica real** (Advogato), representando interações sociais em uma comunidade online.\n",
        "\n",
        "### Metodologia\n",
        "\n",
        "As simulações seguem as seguintes etapas:\n",
        "\n",
        "1. Geração de redes artificiais e carregamento da rede real (Advogato);\n",
        "2. Execução dos modelos SIR e SIS com diferentes parâmetros epidemiológicos;\n",
        "3. Cálculo da **fração de infectados e recuperados ao longo do tempo**;\n",
        "4. Aplicação de estratégias de remoção de links (aleatória e orientada por centralidade);\n",
        "5. Comparação quantitativa do impacto sobre a **propagação e o alcance da epidemia**.\n",
        "\n",
        "A métrica principal utilizada ao longo deste estudo é a **fração final de nós recuperados** (no modelo SIR), que representa a **proporção da população que adoeceu e se recuperou**, servindo como proxy do impacto da epidemia.\n",
        "\n",
        "---\n",
        "\n",
        "Este notebook está organizado de forma modular, permitindo a reprodutibilidade dos experimentos e a análise comparativa entre topologias de rede e estratégias de intervenção.\n"
      ],
      "metadata": {
        "id": "1vg1eXL63lGF"
      }
    },
    {
      "cell_type": "code",
      "execution_count": null,
      "metadata": {
        "id": "q6NAEqx2urVk"
      },
      "outputs": [],
      "source": [
        "!pip install EoN"
      ]
    },
    {
      "cell_type": "markdown",
      "source": [],
      "metadata": {
        "id": "6ov14Hcaw1hp"
      }
    },
    {
      "cell_type": "code",
      "source": [
        "\n",
        "# 🔹 Seção 1: Importação de Bibliotecas\n",
        "import networkx as nx  # para criação e manipulação de redes\n",
        "import EoN  # biblioteca para simulação de epidemias em redes\n",
        "import matplotlib.pyplot as plt  # para visualizações\n",
        "import numpy as np  # operações numéricas\n",
        "import pandas as pd  # estrutura de dados\n",
        "import random  # controle de aleatoriedade\n",
        "from tqdm import tqdm  # barra de progresso\n",
        "from scipy.io import mmread  # leitura de arquivos .mtx\n",
        "\n",
        "# Definindo uma semente para reprodutibilidade dos resultados\n",
        "random.seed(42)\n",
        "np.random.seed(42)"
      ],
      "metadata": {
        "id": "K2Vm9nEnw2fY"
      },
      "execution_count": null,
      "outputs": []
    },
    {
      "cell_type": "markdown",
      "source": [
        "##Contextualização\n",
        "\n",
        "Modelos epidemiológicos são fundamentais para compreender como doenças se espalham em uma população. Neste trabalho, representamos a população como uma rede complexa, em que os nós representam indivíduos e as arestas representam conexões sociais ou interações pelas quais a doença pode ser transmitida.\n",
        "\n",
        "Abaixo, iniciamos a simulação com a construção de uma rede real baseada em dados empíricos (rede de confiança social), que pode ser substituída por qualquer outro dataset de arestas."
      ],
      "metadata": {
        "id": "zKO3OaAklisy"
      }
    },
    {
      "cell_type": "code",
      "source": [
        "# Parâmetros da rede\n",
        "N = 100                # número de nós (indivíduos)\n",
        "av_degree = 8          # grau médio de conexões por nó\n",
        "p = float(av_degree)/float(N)  # probabilidade de conexão no modelo ER\n",
        "m = int(av_degree/2)   # número de conexões adicionadas por novo nó no modelo BA\n",
        "kappa = av_degree       # número de vizinhos no modelo WS\n",
        "\n",
        "# A rede é carregada a partir de um arquivo com lista de arestas.\n",
        "# Cada linha do arquivo contém dois nós conectados por uma aresta e um peso associado.\n",
        "G = nx.read_edgelist(\"/content/advogato.txt\", nodetype=int, data=[(\"weiht\", float)])\n",
        "\n",
        "# Garantir que a rede seja não direcionada (bidirecional)\n",
        "G = G.to_undirected()\n",
        "\n",
        "# Ordenar os componentes conexos da rede, do maior para o menor\n",
        "Gcc = sorted(nx.connected_components(G), key=len, reverse=True)\n",
        "\n",
        "# Seleciona o maior componente conexo\n",
        "G = G.subgraph(Gcc[0])\n",
        "\n",
        "# Converte os rótulos dos nós para inteiros consecutivos a partir do zero\n",
        "G = nx.convert_node_labels_to_integers(G, first_label=0)\n"
      ],
      "metadata": {
        "id": "9uLyUAvvw-Yu"
      },
      "execution_count": null,
      "outputs": []
    },
    {
      "cell_type": "code",
      "source": [
        "print(f\"Número de nós no maior componente conexo: {G.number_of_nodes()}\")\n",
        "print(f\"Número de arestas: {G.number_of_edges()}\")\n",
        "graus = [G.degree(n) for n in G.nodes()]\n",
        "print(f\"Grau médio: {np.mean(graus):.2f}\")\n"
      ],
      "metadata": {
        "id": "376oXxZiinNz"
      },
      "execution_count": null,
      "outputs": []
    },
    {
      "cell_type": "code",
      "source": [
        "def momment_of_degree_distribution(G, m):\n",
        "    \"\"\"\n",
        "    Calcula o m-ésimo momento da distribuição de graus de uma rede G.\n",
        "\n",
        "    Parâmetros:\n",
        "    - G: objeto networkx.Graph\n",
        "    - m: ordem do momento a ser calculado\n",
        "\n",
        "    Retorna:\n",
        "    - Valor médio do grau elevado à potência m\n",
        "    \"\"\"\n",
        "    M = 0\n",
        "    N = len(G)\n",
        "    for i in G.nodes():\n",
        "        M = M + G.degree(i)**m\n",
        "    M = M / N\n",
        "    return M\n",
        "\n",
        "# Exemplo de uso:\n",
        "print(f\"Momento de ordem 1 (grau médio): {momment_of_degree_distribution(G, 1):.2f}\")\n",
        "print(f\"Momento de ordem 2: {momment_of_degree_distribution(G, 2):.2f}\")\n"
      ],
      "metadata": {
        "id": "rnpzrqwOm6Rw"
      },
      "execution_count": null,
      "outputs": []
    },
    {
      "cell_type": "markdown",
      "source": [
        "#Simulação SIR a partir de um único nó inicial (seed node)\n",
        "## Objetivo\n",
        "\n",
        "Realizar a simulação da propagação de uma epidemia utilizando o modelo SIR (Susceptível–Infectado–Recuperado) sobre a rede G (definida anteriormente), iniciando a infecção a partir de um único nó (paciente zero). Essa simulação adota o modelo reativo, onde cada nó infectado tenta transmitir a doença a todos os seus vizinhos em cada passo de tempo."
      ],
      "metadata": {
        "id": "BSgomeebxKkY"
      }
    },
    {
      "cell_type": "markdown",
      "source": [
        "## 1.1 Dinâmica do Modelo SIR\n",
        "\n",
        "O modelo SIR é um dos modelos epidemiológicos clássicos que divide a população em três compartimentos:\n",
        "\n",
        "S (Susceptíveis): indivíduos que ainda não foram infectados, mas podem ser;\n",
        "\n",
        "I (Infectados): indivíduos atualmente infectados e capazes de transmitir a doença;\n",
        "\n",
        "R (Recuperados): indivíduos que se recuperaram e não transmitem mais.\n",
        "\n",
        "A dinâmica é regida por dois parâmetros:\n",
        "\n",
        "𝛽\n",
        "β: taxa de infecção por contato entre um indivíduo infectado e um suscetível;\n",
        "\n",
        "𝜇\n",
        "μ: taxa de recuperação dos indivíduos infectados.\n",
        "\n",
        "A evolução do sistema se dá por meio das transições:\n",
        "\n",
        "𝑆\n",
        "→\n",
        "𝛽\n",
        "𝐼\n",
        "S\n",
        "β\n",
        "​\n",
        " I: quando um suscetível entra em contato com um infectado;\n",
        "\n",
        "𝐼\n",
        "→\n",
        "𝜇\n",
        "𝑅\n",
        "I\n",
        "μ\n",
        "​\n",
        " R: quando um infectado se recupera."
      ],
      "metadata": {
        "id": "N3blFPRxxQnb"
      }
    },
    {
      "cell_type": "code",
      "source": [
        "# Função para simular a dinâmica SIR iniciando de um único nó infectado (seed)\n",
        "def SIR_single_seed(G, seed, beta=0.3, mu=1):\n",
        "    def find(v, i):\n",
        "        \"\"\"\n",
        "        Função auxiliar para localizar as posições onde o vetor v possui o valor i.\n",
        "        Usado para identificar os nós em determinado estado (S, I ou R).\n",
        "        \"\"\"\n",
        "        l = []\n",
        "        pos = 0\n",
        "        for x in v:\n",
        "            if x == i:\n",
        "                l.append(pos)\n",
        "            pos += 1\n",
        "        return l\n",
        "\n",
        "    # Processo reativo: dinâmica SIR\n",
        "    seed_node = seed  # nó inicial infectado (paciente zero)\n",
        "    # Use the actual number of nodes in graph G to initialize the vector_states\n",
        "    vector_states = np.zeros(G.number_of_nodes())  # vetor que armazena o estado de cada nó (0=S, 1=I, 2=R)\n",
        "    vector_states[seed_node] = 1  # infecta o nó inicial\n",
        "    ninfected = 1                # contador de nós infectados\n",
        "    t = 0                        # tempo inicial\n",
        "\n",
        "    # Listas para armazenar a evolução temporal dos compartimentos\n",
        "    infected = list()    # lista dos nós infectados a cada passo de tempo\n",
        "    vt = list()          # armazena os tempos (t)\n",
        "    vI = list()          # fração de infectados ao longo do tempo\n",
        "    vR = list()          # fração de recuperados ao longo do tempo\n",
        "    vS = list()          # fração de suscetíveis ao longo do tempo\n",
        "\n",
        "    # Simulação principal do modelo SIR\n",
        "    while ninfected > 0:  # continua enquanto houver ao menos um infectado\n",
        "        infected = find(vector_states, 1)  # identifica os nós atualmente infectados\n",
        "        for i in infected:\n",
        "            neigs = G.neighbors(i)  # obtém os vizinhos do infectado\n",
        "            for j in neigs:\n",
        "                if np.random.rand() < beta:  # com probabilidade beta, ocorre a infecção\n",
        "                    if vector_states[j] != 2:  # se o vizinho ainda não estiver recuperado\n",
        "                        vector_states[j] = 1   # o vizinho se torna infectado\n",
        "\n",
        "        # Após a tentativa de infecção, os infectados podem se recuperar\n",
        "        for k in infected:\n",
        "            if np.random.rand() < mu:  # com probabilidade mu, ocorre recuperação\n",
        "                vector_states[k] = 2   # o nó passa para o estado de recuperado\n",
        "\n",
        "        # Atualização do número de infectados\n",
        "        ninfected = len(find(vector_states, 1))\n",
        "\n",
        "        # Armazena a fração de cada compartimento no tempo t, using the correct total number of nodes\n",
        "        vI.append(ninfected / G.number_of_nodes())\n",
        "        vR.append(len(find(vector_states, 2)) / G.number_of_nodes())\n",
        "        vS.append(len(find(vector_states, 0)) / G.number_of_nodes())\n",
        "        t += 1\n",
        "        vt.append(t)\n",
        "\n",
        "    return vI, vS, vR, vt\n"
      ],
      "metadata": {
        "id": "Y2qSg7hFxYS6"
      },
      "execution_count": null,
      "outputs": []
    },
    {
      "cell_type": "markdown",
      "source": [
        "Modelo Reativo (Reactive process): Cada nó infectado entra em contato com todos os seus vizinhos em cada passo de tempo e tenta infectá-los com probabilidade\n",
        "β.\n",
        "\n",
        "A simulação termina quando não restam mais infectados na rede.\n",
        "\n",
        "As listas vI, vS e vR retornam a fração de indivíduos em cada estado ao longo do tempo, útil para visualização e análise posterior.\n"
      ],
      "metadata": {
        "id": "U7Ry9X45xd9t"
      }
    },
    {
      "cell_type": "code",
      "source": [
        "# Parâmetros epidemiológicos\n",
        "beta = 0.5  # probabilidade de infecção por contato\n",
        "mu = 0.7    # probabilidade de recuperação\n",
        "seed = 0    # nó inicial infectado\n",
        "\n",
        "# Executa a simulação da dinâmica SIR a partir de um único seed\n",
        "vI, vS, vR, vt = SIR_single_seed(G, seed, beta, mu)\n"
      ],
      "metadata": {
        "id": "qjAAVhBDxf8e"
      },
      "execution_count": null,
      "outputs": []
    },
    {
      "cell_type": "code",
      "source": [
        "# Gráfico da evolução temporal das frações de indivíduos em cada estado\n",
        "plt.figure(figsize=(10,5))\n",
        "plt.plot(vt, vI, 'ro--', label='Infectados (I)')\n",
        "plt.plot(vt, vR, 'bo--', label='Recuperados (R)')\n",
        "plt.plot(vt, vS, 'go--', label='Suscetíveis (S)')\n",
        "plt.xlabel(\"Tempo (t)\", fontsize=15)\n",
        "plt.ylabel(\"Fração de nós\", fontsize=15)\n",
        "plt.title(\"Dinâmica SIR iniciando do nó 0\", fontsize=14)\n",
        "plt.legend()\n",
        "plt.grid(True)\n",
        "plt.show()\n"
      ],
      "metadata": {
        "id": "PwBA1TRsoqv3"
      },
      "execution_count": null,
      "outputs": []
    },
    {
      "cell_type": "markdown",
      "source": [
        "## Dinâmica do Modelo SIS\n",
        "\n",
        "O modelo SIS é adequado para descrever doenças em que não há imunidade permanente após a infecção (como gripes comuns ou doenças sexualmente transmissíveis em estágios crônicos). A dinâmica é dada por dois estados:\n",
        "\n",
        "S (Susceptível): indivíduo saudável, mas vulnerável à infecção;\n",
        "\n",
        "I (Infectado): indivíduo atualmente infectado e transmissor.\n",
        "\n",
        "As transições são:\n",
        "\n",
        "𝑆\n",
        "→\n",
        "𝛽\n",
        "𝐼\n",
        "S\n",
        "β\n",
        "​\n",
        " I: infecção por contato com infectados;\n",
        "\n",
        "𝐼\n",
        "→\n",
        "𝜇\n",
        "𝑆\n",
        "I\n",
        "μ\n",
        "​\n",
        " S: recuperação sem imunidade (retorna ao estado suscetível).\n",
        "\n",
        " ## Implementação da Dinâmica SIS com tempo máximo\n",
        "\n",
        "Como o modelo não termina naturalmente (não há estado absorvente), precisamos definir um número máximo de passos de tempo."
      ],
      "metadata": {
        "id": "4HJB9H6ZxiMN"
      }
    },
    {
      "cell_type": "code",
      "source": [
        "# Função para simular a dinâmica SIS iniciando de um único nó infectado (seed)\n",
        "def SIS_single_seed(G, seed, beta=0.3, mu=1, Tmax=50):\n",
        "    def find(v, i):\n",
        "        \"\"\"\n",
        "        Função auxiliar que retorna as posições (índices) no vetor v que contêm o valor i.\n",
        "        Utilizada para identificar os nós que estão em um determinado estado (infectado, por exemplo).\n",
        "        \"\"\"\n",
        "        l = []\n",
        "        pos = 0\n",
        "        for x in v:\n",
        "            if x == i:\n",
        "                l.append(pos)\n",
        "            pos += 1\n",
        "        return l\n",
        "\n",
        "    # Processo reativo: dinâmica SIS\n",
        "    seed_node = seed  # nó semente (primeiro infectado) - can be adjusted outside the function\n",
        "    # Use the actual number of nodes in graph G to initialize the vector_states\n",
        "    vector_states = np.zeros(G.number_of_nodes())  # vetor de estados: 0 = suscetível, 1 = infectado\n",
        "    vector_states[seed_node] = 1  # infecta o nó inicial\n",
        "    ninfected = 1  # número inicial de infectados\n",
        "\n",
        "    # Listas para armazenar a evolução dos estados ao longo do tempo\n",
        "    infected = list()\n",
        "    vt = list()  # tempo\n",
        "    vI = list()  # fração de infectados\n",
        "    vS = list()  # fração de suscetíveis\n",
        "\n",
        "    # Simulação do modelo até o tempo máximo definido (Tmax)\n",
        "    for t in np.arange(0, Tmax):\n",
        "        infected = find(vector_states, 1)  # identifica os nós infectados\n",
        "        for i in infected:  # cada infectado tenta infectar seus vizinhos\n",
        "            neigs = G.neighbors(i)\n",
        "            for j in neigs:\n",
        "                if np.random.rand() < beta:\n",
        "                    vector_states[j] = 1  # vizinho se torna infectado com probabilidade beta\n",
        "\n",
        "        # Cada infectado pode se recuperar e voltar ao estado suscetível\n",
        "        for k in infected:\n",
        "            if np.random.rand() < mu:\n",
        "                vector_states[k] = 0  # no modelo SIS, o nó recuperado volta a ser suscetível\n",
        "\n",
        "        # Atualização das métricas de interesse\n",
        "        # Use the actual number of nodes in graph G for calculating fractions\n",
        "        ninfected = len(find(vector_states, 1))\n",
        "        vI.append(ninfected / G.number_of_nodes())  # fração de infectados\n",
        "        vS.append(len(find(vector_states, 0)) / G.number_of_nodes())  # fração de suscetíveis\n",
        "        vt.append(t)\n",
        "\n",
        "    return vS, vI, vt"
      ],
      "metadata": {
        "id": "jAtJgtH9xlj5"
      },
      "execution_count": null,
      "outputs": []
    },
    {
      "cell_type": "markdown",
      "source": [
        "O modelo SIS representa doenças que não geram imunidade permanente;\n",
        "\n",
        "Ao contrário do SIR, os infectados retornam ao estado de suscetível após a recuperação;\n",
        "\n",
        "Como não há estado absorvente, é necessário definir um tempo máximo de simulação (Tmax);\n",
        "\n",
        "As curvas de infectados e suscetíveis tendem a atingir um estado estacionário."
      ],
      "metadata": {
        "id": "c7tT4hv6qDAs"
      }
    },
    {
      "cell_type": "markdown",
      "source": [
        "# Simulação com Múltiplos Nós Infectados\n",
        "\n",
        "Até agora, a infecção foi iniciada com apenas um indivíduo (seed node). Nesta etapa, simularemos a dinâmica da epidemia considerando que diversos indivíduos estão infectados no início, o que pode ocorrer em surtos com múltiplos focos ou quando há exposição simultânea."
      ],
      "metadata": {
        "id": "UzKkPdLbxs0d"
      }
    },
    {
      "cell_type": "code",
      "source": [
        "# Geração de diferentes tipos de redes complexas\n",
        "\n",
        "# Parâmetros comuns para todos os modelos\n",
        "N = 100               # número de nós\n",
        "av_degree = 8         # grau médio\n",
        "p = float(av_degree) / float(N)  # probabilidade de conexão no modelo ER\n",
        "m = int(av_degree / 2)           # número de arestas por novo nó no modelo BA\n",
        "kappa = av_degree     # número de vizinhos no modelo WS\n",
        "\n",
        "# Geração das redes\n",
        "G_ER = nx.erdos_renyi_graph(N, p)                     # Erdős–Rényi\n",
        "G_BA = nx.barabasi_albert_graph(N, m)                # Barabási–Albert\n",
        "G_WS = nx.watts_strogatz_graph(N, kappa, 0.1)        # Watts–Strogatz\n",
        "\n"
      ],
      "metadata": {
        "id": "x5azI7u6xw9d"
      },
      "execution_count": null,
      "outputs": []
    },
    {
      "cell_type": "code",
      "source": [
        "# Layout fixo para manter consistência entre os gráficos\n",
        "pos_er = nx.spring_layout(G_ER, seed=42)\n",
        "pos_ba = nx.spring_layout(G_BA, seed=42)\n",
        "pos_ws = nx.spring_layout(G_WS, seed=42)\n",
        "\n",
        "# Figura com 3 subgráficos\n",
        "plt.figure(figsize=(18, 5))\n",
        "\n",
        "# Erdős–Rényi\n",
        "plt.subplot(1, 3, 1)\n",
        "nx.draw(G_ER, pos=pos_er, node_size=30, edge_color='gray', with_labels=False)\n",
        "plt.title(\"Rede Aleatória Erdős–Rényi (ER)\")\n",
        "\n",
        "# Barabási–Albert\n",
        "plt.subplot(1, 3, 2)\n",
        "nx.draw(G_BA, pos=pos_ba, node_size=30, edge_color='gray', with_labels=False)\n",
        "plt.title(\"Rede com Hubs Barabási–Albert (BA)\")\n",
        "\n",
        "# Watts–Strogatz\n",
        "plt.subplot(1, 3, 3)\n",
        "nx.draw(G_WS, pos=pos_ws, node_size=30, edge_color='gray', with_labels=False)\n",
        "plt.title(\"Rede de Mundo Pequeno Watts–Strogatz (WS)\")\n",
        "\n",
        "plt.suptitle(\"Visualização Comparativa das Redes Complexas\", fontsize=16)\n",
        "plt.tight_layout()\n",
        "plt.show()\n"
      ],
      "metadata": {
        "id": "Exk3cPZwqvsY"
      },
      "execution_count": null,
      "outputs": []
    },
    {
      "cell_type": "markdown",
      "source": [
        "## Dinâmica SIS Média com 20 Seeds Aleatórios\n",
        "\n",
        "Executar a simulação SIS com 20 nós aleatórios como seeds iniciais em cada rede (ER, BA, WS), e calcular a fração média de infectados ao longo do tempo. Isso reduz significativamente o tempo de execução e mantém a qualidade da comparação.\n",
        "\n"
      ],
      "metadata": {
        "id": "xcpJLO6Fxy4e"
      }
    },
    {
      "cell_type": "code",
      "source": [
        "from random import sample\n",
        "\n",
        "# Parâmetros epidemiológicos\n",
        "beta = 0.2\n",
        "mu = 0.5\n",
        "Tmax = 50\n",
        "num_seeds = 20\n"
      ],
      "metadata": {
        "id": "YnFhX_sLx3Ri"
      },
      "execution_count": null,
      "outputs": []
    },
    {
      "cell_type": "code",
      "source": [
        "#Simulação para as 3 Redes\n",
        "\n",
        "# Inicialização\n",
        "av_I_er = np.zeros(Tmax)\n",
        "av_I_ba = np.zeros(Tmax)\n",
        "av_I_ws = np.zeros(Tmax)\n",
        "\n",
        "# Erdős–Rényi\n",
        "sample_seeds_er = sample(list(G_ER.nodes()), num_seeds)\n",
        "for seed_node in sample_seeds_er:\n",
        "    vS, vI, vt = SIS_single_seed(G_ER, seed_node, beta, mu, Tmax)\n",
        "    for x in range(len(vI)):\n",
        "        av_I_er[x] += vI[x]\n",
        "av_I_er /= num_seeds\n",
        "\n",
        "# Barabási–Albert\n",
        "sample_seeds_ba = sample(list(G_BA.nodes()), num_seeds)\n",
        "for seed_node in sample_seeds_ba:\n",
        "    vS, vI, vt = SIS_single_seed(G_BA, seed_node, beta, mu, Tmax)\n",
        "    for x in range(len(vI)):\n",
        "        av_I_ba[x] += vI[x]\n",
        "av_I_ba /= num_seeds\n",
        "\n",
        "# Watts–Strogatz\n",
        "sample_seeds_ws = sample(list(G_WS.nodes()), num_seeds)\n",
        "for seed_node in sample_seeds_ws:\n",
        "    vS, vI, vt = SIS_single_seed(G_WS, seed_node, beta, mu, Tmax)\n",
        "    for x in range(len(vI)):\n",
        "        av_I_ws[x] += vI[x]\n",
        "av_I_ws /= num_seeds\n",
        "\n",
        "# Eixo de tempo\n",
        "vt = np.arange(0, Tmax)\n"
      ],
      "metadata": {
        "id": "NGmdvTWFxd1X"
      },
      "execution_count": null,
      "outputs": []
    },
    {
      "cell_type": "code",
      "source": [
        "#Visualização Comparativa – 20 Seeds Aleatórios\n",
        "\n",
        "plt.figure(figsize=(10,6))\n",
        "plt.plot(vt, av_I_er, 'r-', label='ER (Erdős–Rényi)')\n",
        "plt.plot(vt, av_I_ba, 'b-', label='BA (Barabási–Albert)')\n",
        "plt.plot(vt, av_I_ws, 'g-', label='WS (Watts–Strogatz)')\n",
        "plt.xlabel(\"Tempo (t)\", fontsize=14)\n",
        "plt.ylabel(\"Fração média de infectados\", fontsize=14)\n",
        "plt.title(\"Dinâmica SIS Média com 20 Seeds Aleatórios\", fontsize=15)\n",
        "plt.legend()\n",
        "plt.grid(True)\n",
        "plt.show()\n",
        "\n"
      ],
      "metadata": {
        "id": "DG7BZl1LuAWa"
      },
      "execution_count": null,
      "outputs": []
    },
    {
      "cell_type": "markdown",
      "source": [
        "BA (Barabási–Albert): mostra maior persistência da infecção, mesmo com poucos seeds, devido aos hubs.\n",
        "\n",
        "ER: curva moderada, com crescimento rápido mas sem sustentação prolongada.\n",
        "\n",
        "WS: comportamento intermediário, com propagação local e estabilidade.\n",
        "\n",
        "A escolha da topologia influencia diretamente o alcance e a duração média da epidemia, mesmo com um número reduzido de seeds."
      ],
      "metadata": {
        "id": "MQSJz6TXtu6S"
      }
    },
    {
      "cell_type": "markdown",
      "source": [
        "#Efeito da Remoção de Conexões (Distanciamento Social)\n",
        " Objetivo\n",
        "Simular a propagação do modelo SIR sobre uma rede antes e depois da remoção de uma fração das conexões. Essa remoção pode ser:\n",
        "\n",
        "Aleatória: simula distanciamento social generalizado, sem foco estratégico;\n",
        "\n",
        "Orientada (centralidade): simula políticas direcionadas a interromper contatos mais influentes (hubs, pontes, etc.).\n",
        "\n",
        "Aqui, vamos começar com a remoção aleatória de links, e analisar seu efeito na fração final de recuperados, que representa o total de pessoas que adoeceram ao longo da epidemia."
      ],
      "metadata": {
        "id": "IwK1koLQyqmJ"
      }
    },
    {
      "cell_type": "code",
      "source": [
        "#Função para simular com remoção aleatória\n",
        "\n",
        "def SIR_with_random_removal(G_original, removal_fraction, beta=0.3, mu=0.1, Tmax=50, num_seeds=10):\n",
        "    G = G_original.copy()\n",
        "    num_edges_to_remove = int(removal_fraction * G.number_of_edges())\n",
        "    # Convert G.edges() to a list before sampling\n",
        "    edges_to_remove = random.sample(list(G.edges()), num_edges_to_remove)\n",
        "    G.remove_edges_from(edges_to_remove)\n",
        "\n",
        "    R_final = []\n",
        "    seeds = sample(list(G.nodes()), num_seeds)\n",
        "    for seed in seeds:\n",
        "        vI, vS, vR, vt = SIR_single_seed(G, seed, beta, mu)\n",
        "        R_final.append(vR[-1])\n",
        "\n",
        "    return np.mean(R_final)\n"
      ],
      "metadata": {
        "id": "wAFlh3mDyxdj"
      },
      "execution_count": null,
      "outputs": []
    },
    {
      "cell_type": "code",
      "source": [
        "#Varredura: 0% a 50% de remoção de links\n",
        "\n",
        "removal_rates = np.linspace(0, 0.5, 11)  # de 0% a 50% em etapas de 5%\n",
        "\n",
        "R_er = []\n",
        "R_ba = []\n",
        "R_ws = []\n",
        "\n",
        "for r in removal_rates:\n",
        "    R_er.append(SIR_with_random_removal(G_ER, r, beta=0.3, mu=0.1, Tmax=50, num_seeds=10))\n",
        "    R_ba.append(SIR_with_random_removal(G_BA, r, beta=0.3, mu=0.1, Tmax=50, num_seeds=10))\n",
        "    R_ws.append(SIR_with_random_removal(G_WS, r, beta=0.3, mu=0.1, Tmax=50, num_seeds=10))\n"
      ],
      "metadata": {
        "id": "PAt_eKo-y7hd"
      },
      "execution_count": null,
      "outputs": []
    },
    {
      "cell_type": "code",
      "source": [
        "# Gráfico: Fração de Recuperados vs. Remoção de Links\n",
        "\n",
        "plt.figure(figsize=(10,6))\n",
        "plt.plot(removal_rates * 100, R_er, 'o-', label='ER (Erdős–Rényi)')\n",
        "plt.plot(removal_rates * 100, R_ba, 's-', label='BA (Barabási–Albert)')\n",
        "plt.plot(removal_rates * 100, R_ws, '^-', label='WS (Watts–Strogatz)')\n",
        "plt.xlabel(\"Percentual de links removidos (%)\", fontsize=13)\n",
        "plt.ylabel(\"Fração média de recuperados\", fontsize=13)\n",
        "plt.title(\"Efeito da Remoção Aleatória de Links nas 3 Redes (SIR)\", fontsize=15)\n",
        "plt.legend()\n",
        "plt.grid(True)\n",
        "plt.show()\n",
        "\n"
      ],
      "metadata": {
        "id": "X1xgmR3GzAW-"
      },
      "execution_count": null,
      "outputs": []
    },
    {
      "cell_type": "markdown",
      "source": [
        "##  Interpretação Comparativa\n",
        "BA (com hubs): mostra maior vulnerabilidade à remoção aleatória — poucos cortes já afetam hubs críticos.\n",
        "\n",
        "WS: afeta moderadamente a propagação, pois combina clustering local com atalhos.\n",
        "\n",
        "ER: tende a reduzir a propagação de forma mais gradual e linear.\n",
        "\n",
        "Mesmo sem estratégia, a remoção aleatória de arestas já causa forte redução no impacto epidêmico, especialmente em redes com alto grau de heterogeneidade (como a BA)."
      ],
      "metadata": {
        "id": "GKqV1f3nzlU6"
      }
    },
    {
      "cell_type": "markdown",
      "source": [
        "# Remoção Direcionada de Conexões com Base em Centralidade\n",
        "Objetivo\n",
        "Avaliar o impacto da remoção de links com base em medidas de centralidade sobre a propagação de uma epidemia SIR. Essa simulação representa intervenções estratégicas, onde são interrompidas as conexões que mais contribuem para a disseminação, segundo critérios estruturais:\n",
        "\n",
        "Betweenness centrality (intermediação): remove arestas mais usadas como “pontes”;\n",
        "\n"
      ],
      "metadata": {
        "id": "sGb0g1H_1BRS"
      }
    },
    {
      "cell_type": "code",
      "source": [
        "#Funções auxiliares para ordenação e remoção\n",
        "\n",
        "def edge_betweenness_sorted(G):\n",
        "    \"\"\"Retorna lista de arestas ordenadas por betweenness centrality (decrescente).\"\"\"\n",
        "    bw = nx.edge_betweenness_centrality(G)\n",
        "    return sorted(bw, key=bw.get, reverse=True)\n",
        "\n",
        "def edge_avg_degree_sorted(G):\n",
        "    \"\"\"Retorna lista de arestas ordenadas por grau médio dos nós que conecta (decrescente).\"\"\"\n",
        "    edge_score = {}\n",
        "    for u, v in G.edges():\n",
        "        deg_avg = (G.degree(u) + G.degree(v)) / 2\n",
        "        edge_score[(u, v)] = deg_avg\n",
        "    return sorted(edge_score, key=edge_score.get, reverse=True)\n"
      ],
      "metadata": {
        "id": "KPWTOIwF1FZj"
      },
      "execution_count": null,
      "outputs": []
    },
    {
      "cell_type": "code",
      "source": [
        "# Função de simulação SIR com remoção direcionada\n",
        "def SIR_with_targeted_removal(G_original, removal_fraction, strategy='betweenness', beta=0.3, mu=0.1, Tmax=50, num_seeds=10):\n",
        "    G = G_original.copy()\n",
        "    num_edges_to_remove = int(removal_fraction * G.number_of_edges())\n",
        "\n",
        "    if strategy == 'betweenness':\n",
        "        sorted_edges = edge_betweenness_sorted(G)\n",
        "    elif strategy == 'avg_degree':\n",
        "        sorted_edges = edge_avg_degree_sorted(G)\n",
        "    else:\n",
        "        raise ValueError(\"Estratégia não reconhecida. Use 'betweenness' ou 'avg_degree'.\")\n",
        "\n",
        "    # Remove as arestas mais centrais\n",
        "    edges_to_remove = sorted_edges[:num_edges_to_remove]\n",
        "    G.remove_edges_from(edges_to_remove)\n",
        "\n",
        "    # Executa simulação SIR\n",
        "    R_final = []\n",
        "    seeds = sample(list(G.nodes()), num_seeds)\n",
        "    for seed in seeds:\n",
        "        vI, vS, vR, vt = SIR_single_seed(G, seed, beta, mu)\n",
        "        R_final.append(vR[-1])\n",
        "\n",
        "    return np.mean(R_final)\n"
      ],
      "metadata": {
        "id": "fyS8238i1KcJ"
      },
      "execution_count": null,
      "outputs": []
    },
    {
      "cell_type": "code",
      "source": [
        "#Simulação para diferentes taxas de remoção\n",
        "\n",
        "removal_rates = np.linspace(0, 0.5, 11)\n",
        "\n",
        "# Inicialização de dicionários para armazenar os resultados\n",
        "results = {\n",
        "    'ER': {'random': [], 'betweenness': [], 'avg_degree': []},\n",
        "    'BA': {'random': [], 'betweenness': [], 'avg_degree': []},\n",
        "    'WS': {'random': [], 'betweenness': [], 'avg_degree': []}\n",
        "}\n",
        "\n",
        "# Função para iterar por estratégia e rede\n",
        "for r in removal_rates:\n",
        "    for net_name, G_net in zip(['ER', 'BA', 'WS'], [G_ER, G_BA, G_WS]):\n",
        "        results[net_name]['random'].append(\n",
        "            SIR_with_random_removal(G_net, r, beta=0.3, mu=0.1, Tmax=50, num_seeds=10))\n",
        "        results[net_name]['betweenness'].append(\n",
        "            SIR_with_targeted_removal(G_net, r, strategy='betweenness', beta=0.3, mu=0.1, Tmax=50, num_seeds=10))\n",
        "        results[net_name]['avg_degree'].append(\n",
        "            SIR_with_targeted_removal(G_net, r, strategy='avg_degree', beta=0.3, mu=0.1, Tmax=50, num_seeds=10))\n"
      ],
      "metadata": {
        "id": "qG36arDd1PCD"
      },
      "execution_count": null,
      "outputs": []
    },
    {
      "cell_type": "code",
      "source": [
        "#Gráfico: Fração de Recuperados vs. Porcentagem de Remoção (Direcionada)\n",
        "plt.figure(figsize=(18,5))\n",
        "\n",
        "for i, net_name in enumerate(['ER', 'BA', 'WS']):\n",
        "    plt.subplot(1, 3, i+1)\n",
        "    plt.plot(removal_rates*100, results[net_name]['random'], 'o-', label='Aleatória')\n",
        "    plt.plot(removal_rates*100, results[net_name]['betweenness'], 's-', label='Betweenness')\n",
        "    plt.plot(removal_rates*100, results[net_name]['avg_degree'], '^-', label='Grau médio')\n",
        "    plt.xlabel(\"Links removidos (%)\", fontsize=12)\n",
        "    plt.ylabel(\"Fração média de recuperados\", fontsize=12)\n",
        "    plt.title(f\"Rede {net_name}\", fontsize=14)\n",
        "    plt.grid(True)\n",
        "    plt.legend()\n",
        "\n",
        "plt.suptitle(\"Comparação de Estratégias de Remoção de Links (Modelo SIR)\", fontsize=16)\n",
        "plt.tight_layout()\n",
        "plt.show()\n"
      ],
      "metadata": {
        "id": "20hhTOZ31Tq-"
      },
      "execution_count": null,
      "outputs": []
    },
    {
      "cell_type": "code",
      "source": [],
      "metadata": {
        "id": "S1kCOw7c5XPC"
      },
      "execution_count": null,
      "outputs": []
    },
    {
      "cell_type": "markdown",
      "source": [
        "A remoção orientada por centralidade (especialmente betweenness) é claramente mais eficaz para conter a propagação epidêmica em redes reais, especialmente quando há hubs ou pontes estruturais."
      ],
      "metadata": {
        "id": "zDr9xkwJ2N-3"
      }
    },
    {
      "cell_type": "markdown",
      "source": [
        "# Interpretação Final: Impacto da Remoção de Links no Modelo SIR\n",
        "## Cenário Simulado\n",
        "Foram simuladas epidemias usando o modelo SIR sobre três redes com topologias distintas:\n",
        "\n",
        "* Erdős–Rényi (ER): conexões aleatórias com grau homogêneo\n",
        "\n",
        "* Barabási–Albert (BA): rede com hubs altamente conectados\n",
        "\n",
        "* Watts–Strogatz (WS): rede de mundo pequeno, com alta transitividade e atalhos\n",
        "\n",
        "\n",
        "\n",
        "\n",
        "Cada rede foi submetida a remoções progressivas de até 50% das conexões, segundo três estratégias:\n",
        "\n",
        "1. Remoção aleatória: representa distanciamento social generalizado, sem foco estratégico;\n",
        "\n",
        "2. Remoção por betweenness centrality: remove as arestas mais estruturais, que atuam como “pontes”;\n",
        "\n",
        "3. Remoção por grau médio dos vértices: remove conexões entre indivíduos de alta conectividade.\n",
        "\n"
      ],
      "metadata": {
        "id": "AMjF1WEr2PBC"
      }
    },
    {
      "cell_type": "markdown",
      "source": [
        "# Principais Resultados\n",
        "🔴 Rede Barabási–Albert (BA)\n",
        "Apresentou a maior sensibilidade à remoção de links, devido à presença de hubs.\n",
        "\n",
        "A remoção orientada por betweenness foi a mais eficaz, mesmo com baixos percentuais (~10%).\n",
        "\n",
        "A remoção aleatória teve efeito mais modesto, exigindo remoção acima de 30% para conter a epidemia.\n",
        "\n",
        "🔵 Rede Erdős–Rényi (ER)\n",
        "Devido à estrutura homogênea, todas as estratégias tiveram impacto relativamente parecido.\n",
        "\n",
        "A redução da propagação foi progressiva e linear, independentemente da centralidade.\n",
        "\n",
        "🟢 Rede Watts–Strogatz (WS)\n",
        "A remoção por betweenness reduziu significativamente a epidemia ao eliminar atalhos cruciais entre comunidades.\n",
        "\n",
        "A remoção por grau médio teve efeito moderado.\n",
        "\n",
        "A remoção aleatória foi menos eficaz, exigindo cortes mais extensos para impacto visível."
      ],
      "metadata": {
        "id": "8xSI6yy62V4C"
      }
    },
    {
      "cell_type": "markdown",
      "source": [
        "#Conclusão Geral\n",
        "Estratégias inteligentes e direcionadas de distanciamento social (com base em centralidade) são mais eficazes do que a remoção aleatória, especialmente em redes com heterogeneidade estrutural (como BA).\n",
        "\n",
        "A eficácia da contenção depende fortemente da topologia da rede:\n",
        "\n",
        "Em redes com hubs, interromper conexões estratégicas colapsa rapidamente a disseminação.\n",
        "\n",
        "Em redes homogêneas (ER), o efeito é mais difuso, mas cumulativo.\n",
        "\n",
        "Em redes WS, atalhos e agrupamentos locais tornam certas conexões especialmente críticas."
      ],
      "metadata": {
        "id": "ifG2EIAD2xmt"
      }
    },
    {
      "cell_type": "markdown",
      "source": [],
      "metadata": {
        "id": "fQ25W2P822Js"
      }
    }
  ]
}